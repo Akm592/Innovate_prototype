{
 "cells": [
  {
   "cell_type": "code",
   "execution_count": null,
   "id": "7f11cc1c-9b62-4d6b-b578-9045e7861e99",
   "metadata": {},
   "outputs": [],
   "source": []
  },
  {
   "cell_type": "code",
   "execution_count": null,
   "id": "0bd9579c-717a-435f-8cf6-cf207a3976dd",
   "metadata": {},
   "outputs": [],
   "source": [
    "import pandas as pd\n",
    "import numpy as np\n",
    "from warnings import filterwarnings\n",
    "import nltk\n",
    "import tensorflow as tf\n",
    "from tensorflow.keras.models import Sequential\n",
    "from tensorflow.keras.layers import Dense\n",
    "import tensorflowjs as tfjs\n",
    "from nltk.stem import WordNetLemmatizer\n",
    "filterwarnings(\"ignore\")"
   ]
  },
  {
   "cell_type": "code",
   "execution_count": null,
   "id": "afaf5591-15b6-437e-a460-e0ca5a7f5523",
   "metadata": {},
   "outputs": [],
   "source": []
  },
  {
   "cell_type": "code",
   "execution_count": null,
   "id": "9aa758d3-701d-4fd7-9205-e63ec2ff6ebb",
   "metadata": {},
   "outputs": [],
   "source": [
    "import pandas as pd\n",
    "from sklearn.model_selection import train_test_split\n",
    "\n",
    "\n",
    "data = pd.read_csv('CopyofBook1(1).csv')  # Replace with your file path\n",
    "\n",
    "\n",
    "X = data[['month', 'product']]\n",
    "y = data['export_value']\n",
    "\n",
    "X_train, X_test, y_train, y_test = train_test_split(X, y, test_size=0.2, random_state=42)\n"
   ]
  },
  {
   "cell_type": "code",
   "execution_count": null,
   "id": "ab3708f9-b157-4df0-a2fe-8101ddddadbb",
   "metadata": {},
   "outputs": [],
   "source": [
    "data.head()"
   ]
  },
  {
   "cell_type": "code",
   "execution_count": null,
   "id": "2daba8f3-08af-4029-a8d1-608627a78208",
   "metadata": {},
   "outputs": [],
   "source": [
    "import pandas as pd\n",
    "from sklearn.model_selection import train_test_split\n",
    "\n",
    "\n",
    "data = pd.read_csv('CopyofBook1(1).csv')  # Replace with your file path\n",
    "\n",
    "\n",
    "X = data[['month', 'product']]\n",
    "y = data['export_value']\n",
    "\n",
    "X_train, X_test, y_train, y_test = train_test_split(X, y, test_size=0.2, random_state=42)\n"
   ]
  },
  {
   "cell_type": "code",
   "execution_count": null,
   "id": "c5520fa2-0a51-4789-941e-b3b36d7615e5",
   "metadata": {},
   "outputs": [],
   "source": [
    "from sklearn.ensemble import RandomForestRegressor\n",
    "\n",
    "model = RandomForestRegressor(n_estimators=100, random_state=42)\n",
    "model.fit(X_train_encoded, y_train)\n"
   ]
  },
  {
   "cell_type": "code",
   "execution_count": null,
   "id": "21b627e7-ec83-441f-b847-293577e9fe8e",
   "metadata": {},
   "outputs": [],
   "source": [
    "def predict_sales(month, product_type):\n",
    "    user_input = pd.DataFrame({'Month': [month], 'Product_Type': [product_type]})\n",
    "    user_input_encoded = encoder.transform(user_input)\n",
    "    predicted_sales = model.predict(user_input_encoded)\n",
    "    return {'prediction':predicted_sales[0]}\n"
   ]
  },
  {
   "cell_type": "code",
   "execution_count": null,
   "id": "41e64dd0-545e-46b5-8736-f1d7d5a6ba56",
   "metadata": {},
   "outputs": [],
   "source": [
    "predict_sales('january','textile')"
   ]
  },
  {
   "cell_type": "code",
   "execution_count": null,
   "id": "59712d1c-d8cb-466f-85eb-94941e9f9cbd",
   "metadata": {},
   "outputs": [],
   "source": [
    "from sklearn.metrics import mean_absolute_error, mean_squared_error\n",
    "\n",
    "y_pred = model.predict(X_test_encoded)\n",
    "\n",
    "mae = mean_absolute_error(y_test, y_pred)\n",
    "rmse = mean_squared_error(y_test, y_pred, squared=False)\n",
    "\n",
    "print(\"Mean Absolute Error:\", mae)\n",
    "print(\"Root Mean Squared Error:\", rmse)\n"
   ]
  },
  {
   "cell_type": "code",
   "execution_count": null,
   "id": "0a4c5cf5-25de-4a7b-8a72-18f01e37266e",
   "metadata": {},
   "outputs": [],
   "source": [
    "import joblib\n",
    "import json\n",
    "\n",
    "# Save the trained model\n",
    "joblib.dump(model, 'sales_prediction_model.pkl')\n",
    "encoder.save('encoder_library.pkl')\n",
    "# Save data in a dictionary\n",
    "data_to_save = {\n",
    "    'encoder': encoder,\n",
    "    'model': model,\n",
    "    'X_train_encoded':X_train_encoded,\n",
    "    'y_train': y_train.tolist(),\n",
    "}\n",
    "\n",
    "# Save data to a JSON file\n",
    "with open('model_data.json', 'w') as json_file:\n",
    "    json.dump(data_to_save, json_file, default=lambda x: None if isinstance(x, float) and math.isnan(x) else x)\n"
   ]
  },
  {
   "cell_type": "code",
   "execution_count": null,
   "id": "e9f18436-e25e-40ae-abb5-7e5e23ceaba4",
   "metadata": {},
   "outputs": [],
   "source": [
    "import json\n",
    "import pickle\n",
    "from sklearn.linear_model import LogisticRegression  # Replace with your actual model import\n",
    "\n",
    "# Create and train your machine learning model (replace this with your model)\n",
    "model = LogisticRegression()\n",
    "X_train = [[1, 2, 3], [4, 5, 6]]\n",
    "y_train = [0, 1]\n",
    "model.fit(X_train, y_train)\n",
    "\n",
    "# Specify the file paths where you want to save the model in JSON and binary formats\n",
    "model_json_filename = 'my_model.json'\n",
    "model_bin_filename = 'my_model.pkl'\n",
    "\n",
    "# Save model parameters to JSON\n",
    "model_params = {\n",
    "    \"model_type\": \"LogisticRegression\",\n",
    "    \"coefficients\": model.coef_.tolist(),\n",
    "    \"intercept\": model.intercept_.tolist()\n",
    "}\n",
    "\n",
    "with open(model_json_filename, 'w') as model_json_file:\n",
    "    json.dump(model_params, model_json_file, indent=4)\n",
    "\n",
    "print(f\"Model parameters saved as '{model_json_filename}'\")\n",
    "\n",
    "# Save the entire model to a binary file using pickle\n",
    "with open(model_bin_filename, 'wb') as model_bin_file:\n",
    "    pickle.dump(model, model_bin_file)\n",
    "\n",
    "print(f\"Model saved as '{model_bin_filename}'\")\n"
   ]
  },
  {
   "cell_type": "code",
   "execution_count": null,
   "id": "f3f097be-5e24-4b2e-a92a-76eb6c13f219",
   "metadata": {},
   "outputs": [],
   "source": [
    "# Import necessary libraries\n",
    "import pandas as pd\n",
    "import joblib\n",
    "from sklearn.model_selection import train_test_split\n",
    "from sklearn.ensemble import RandomForestRegressor\n",
    "from sklearn.preprocessing import LabelEncoder\n",
    "from flask import Flask, request, jsonify\n",
    "\n",
    "\n",
    "\n",
    "# Load and preprocess your dataset (replace 'data.csv' with your dataset)\n",
    "data = pd.read_csv('CopyofBook1(1).csv')\n",
    "\n",
    "# Encode categorical variables (replace 'product' and 'month' with your column names)\n",
    "label_encoder_product = LabelEncoder()\n",
    "data['product'] = label_encoder_product.fit_transform(data['product'])\n",
    "\n",
    "label_encoder_month = LabelEncoder()\n",
    "data['month'] = label_encoder_month.fit_transform(data['month'])\n",
    "\n",
    "# Split the data into features and target\n",
    "X = data[['product', 'month']]\n",
    "y = data['export_value']\n",
    "\n",
    "# Train a machine learning model (Random Forest Regression in this example)\n",
    "X_train, X_test, y_train, y_test = train_test_split(X, y, test_size=0.2, random_state=42)\n",
    "\n",
    "model = RandomForestRegressor(n_estimators=100, random_state=42)\n",
    "model.fit(X_train, y_train)\n",
    "\n",
    "# Save the trained model to a binary file\n",
    "joblib.dump(model, 'export_model.bin')\n",
    "\n",
    "# Create a Flask web application\n",
    "app = Flask(__name__)\n",
    "\n",
    "@app.route('/predict', methods=['POST'])\n",
    "def predict():\n",
    "    try:\n",
    "        # Load the trained model\n",
    "        model = joblib.load('export_model.bin')\n",
    "\n",
    "        # Get user input (product and month) from JSON request\n",
    "        data = request.get_json()\n",
    "        product = data['product']\n",
    "        month = data['month']\n",
    "\n",
    "        # Encode product and month\n",
    "        product_encoded = label_encoder_product.transform([product])\n",
    "        month_encoded = label_encoder_month.transform([month])\n",
    "\n",
    "        # Predict the export value\n",
    "        predicted_value = model.predict([[product_encoded[0], month_encoded[0]]])\n",
    "\n",
    "        return jsonify({'predicted_value': predicted_value[0]})\n",
    "    \n",
    "    except Exception as e:\n",
    "        return jsonify({'error': str(e)})\n",
    "\n",
    "if __name__ == '__main__':\n",
    "    app.run(debug=True)\n"
   ]
  },
  {
   "cell_type": "code",
   "execution_count": 1,
   "id": "02b57ae1-5965-4447-b4d4-d009804bbfd8",
   "metadata": {},
   "outputs": [],
   "source": [
    "# Import necessary libraries\n",
    "import pandas as pd\n",
    "import joblib\n",
    "import json\n",
    "from sklearn.model_selection import train_test_split\n",
    "from sklearn.ensemble import RandomForestRegressor\n",
    "from sklearn.preprocessing import LabelEncoder\n",
    "from flask import Flask, request, jsonify\n",
    "import matplotlib.pyplot as plt\n",
    "\n",
    "# Load and preprocess your dataset (replace 'data.csv' with your dataset)\n",
    "data = pd.read_csv('CopyofBook1(1).csv')\n",
    "\n",
    "# Encode categorical variables (replace 'product' and 'month' with your column names)\n",
    "label_encoder_product = LabelEncoder()\n",
    "data['product'] = label_encoder_product.fit_transform(data['product'])\n",
    "\n",
    "label_encoder_month = LabelEncoder()\n",
    "data['month'] = label_encoder_month.fit_transform(data['month'])\n",
    "\n",
    "# Split the data into features and target\n",
    "X = data[['product', 'month']]\n",
    "y = data['export_value']\n",
    "\n",
    "# Train a machine learning model (Random Forest Regression in this example)\n",
    "X_train, X_test, y_train, y_test = train_test_split(X, y, test_size=0.2, random_state=42)\n",
    "\n",
    "model = RandomForestRegressor(n_estimators=100, random_state=42)\n",
    "model.fit(X_train, y_train)\n",
    "\n",
    "# Save the trained model to a binary file\n",
    "joblib.dump(model, 'export_model.bin')\n",
    "\n",
    "# Create a JSON configuration file\n",
    "config = {\n",
    "    'model_path': 'export_model.bin',\n",
    "    'label_encoders': {\n",
    "        'product': label_encoder_product.classes_.tolist(),\n",
    "        'month': label_encoder_month.classes_.tolist()\n",
    "    }\n",
    "}\n",
    "\n",
    "with open('config.json', 'w') as config_file:\n",
    "    json.dump(config, config_file, indent=4)\n",
    "    \n",
    "    \n",
    "# Visualize the data\n",
    "\n",
    "# Plot the export values based on product\n",
    "product_groups = data.groupby('product').sum()['export_value']\n",
    "plt.bar(product_groups.index, product_groups.values)\n",
    "plt.xlabel('Product')\n",
    "plt.ylabel('Export Value')\n",
    "plt.title('Export Values by Product')\n",
    "plt.xticks(range(len(product_groups)), label_encoder_product.inverse_transform(range(len(product_groups))), rotation=90)\n",
    "plt.show()\n",
    "\n",
    "# Plot the export values based on month\n",
    "month_groups = data.groupby('month').sum()['export_value']\n",
    "plt.bar(month_groups.index, month_groups.values)\n",
    "plt.xlabel('Month')\n",
    "plt.ylabel('Export Value')\n",
    "plt.title('Export Values by Month')\n",
    "plt.xticks(range(len(month_groups)), label_encoder_month.inverse_transform(range(len(month_groups))), rotation=90)\n",
    "plt.show()    \n",
    "\n",
    "    \n",
    "    \n",
    "    \n",
    "\n",
    "\n",
    "\n"
   ]
  },
  {
   "cell_type": "code",
   "execution_count": 2,
   "id": "351303c3-a236-4ae8-91fd-a08ae87fe63c",
   "metadata": {},
   "outputs": [
    {
     "data": {
      "image/png": "[encoded data removed]",
      "text/plain": [
       "<Figure size 640x480 with 1 Axes>"
      ]
     },
     "metadata": {},
     "output_type": "display_data"
    },
    {
     "data": {
      "image/png": "[encoded data removed]",
      "text/plain": [
       "<Figure size 640x480 with 1 Axes>"
      ]
     },
     "metadata": {},
     "output_type": "display_data"
    }
   ],
   "source": []
  },
  {
   "cell_type": "markdown",
   "id": "90182c39-6e4b-4a7e-b8a9-c729690cc341",
   "metadata": {},
   "source": []
  }
 ],
 "metadata": {
  "kernelspec": {
   "display_name": "Python 3 (ipykernel)",
   "language": "python",
   "name": "python3"
  },
  "language_info": {
   "codemirror_mode": {
    "name": "ipython",
    "version": 3
   },
   "file_extension": ".py",
   "mimetype": "text/x-python",
   "name": "python",
   "nbconvert_exporter": "python",
   "pygments_lexer": "ipython3",
   "version": "3.11.4"
  }
 },
 "nbformat": 4,
 "nbformat_minor": 5
}
