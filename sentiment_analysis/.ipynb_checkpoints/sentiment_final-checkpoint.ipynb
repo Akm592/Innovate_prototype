{
 "cells": [
  {
   "cell_type": "code",
   "execution_count": 1,
   "id": "a6fa3458-0cee-4313-bda9-56a71686f00b",
   "metadata": {},
   "outputs": [
    {
     "name": "stderr",
     "output_type": "stream",
     "text": [
      "2023-09-04 15:19:33.792071: W tensorflow/compiler/tf2tensorrt/utils/py_utils.cc:38] TF-TRT Warning: Could not find TensorRT\n",
      "All model checkpoint layers were used when initializing TFBertForSequenceClassification.\n",
      "\n",
      "All the layers of TFBertForSequenceClassification were initialized from the model checkpoint at nlptown/bert-base-multilingual-uncased-sentiment.\n",
      "If your task is similar to the task the model of the checkpoint was trained on, you can already use TFBertForSequenceClassification for predictions without further training.\n"
     ]
    }
   ],
   "source": [
    "from transformers import pipeline \n",
    "\n",
    "sentiment_analyzer = pipeline(\"sentiment-analysis\", model=\"nlptown/bert-base-multilingual-uncased-sentiment\")\n"
   ]
  },
  {
   "cell_type": "code",
   "execution_count": 3,
   "id": "dc2580ad-ac6b-4d8a-88e2-ff2214420efe",
   "metadata": {},
   "outputs": [
    {
     "name": "stdout",
     "output_type": "stream",
     "text": [
      "Sentiment Label: 1 star\n",
      "Sentiment Score: 0.71937096118927\n"
     ]
    }
   ],
   "source": [
    "input_text = \"\"\n",
    "sentiment_result = sentiment_analyzer(input_text)\n",
    "\n",
    "\n",
    "sentiment_label = sentiment_result[0]['label']\n",
    "sentiment_score = sentiment_result[0]['score']\n",
    "\n",
    "print(f\"Sentiment Label: {sentiment_label}\")\n",
    "print(f\"Sentiment Score: {sentiment_score}\")\n"
   ]
  },
  {
   "cell_type": "code",
   "execution_count": null,
   "id": "db4777f2-afa0-493c-9b4c-6ec4cc3fa4b4",
   "metadata": {},
   "outputs": [],
   "source": []
  }
 ],
 "metadata": {
  "kernelspec": {
   "display_name": "Python 3 (ipykernel)",
   "language": "python",
   "name": "python3"
  },
  "language_info": {
   "codemirror_mode": {
    "name": "ipython",
    "version": 3
   },
   "file_extension": ".py",
   "mimetype": "text/x-python",
   "name": "python",
   "nbconvert_exporter": "python",
   "pygments_lexer": "ipython3",
   "version": "3.11.4"
  }
 },
 "nbformat": 4,
 "nbformat_minor": 5
}
